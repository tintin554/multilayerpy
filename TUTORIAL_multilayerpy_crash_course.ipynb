{
 "cells": [
  {
   "cell_type": "markdown",
   "metadata": {},
   "source": [
    "# MultilayerPy - crash course \n",
    "\n",
    "This is a rough guide to get MultilayerPy working on your machine. It will reproduce the output from the KM-SUB description paper Fig. 2(a) (https://doi.org/10.5194/acp-10-3673-2010).\n",
    "\n",
    "First of all we need to import all of the packages that we need. This also imports the `build`, `simulate` and `optimize` modules that are the basis of the package. "
   ]
  },
  {
   "cell_type": "code",
   "execution_count": null,
   "metadata": {},
   "outputs": [],
   "source": [
    "# importing the necessaries\n",
    "import numpy as np\n",
    "import multilayerpy\n",
    "import multilayerpy.build as build \n",
    "import multilayerpy.simulate as simulate\n",
    "import multilayerpy.optimize as optimize\n",
    "import scipy\n",
    "\n",
    "# useful to know what version of multilayerpy we are using\n",
    "print(multilayerpy.__version__)"
   ]
  },
  {
   "cell_type": "markdown",
   "metadata": {},
   "source": [
    "### Defining the reaction scheme\n",
    "The first thing to do is define the reaction scheme. In this case, `oleic acid + ozone --> products`. There are 3 components. \n",
    "\n",
    "To define the reaction scheme, a `reactant_tuple_list` and `product_tuple_list` is defined. These two objects are lists of tuples (tuple: `(a,b)`; list of tuples:`[(a,b), (c,d)]`). Each member of the list (tuple) represents reactants/product(s) of that reaction. **Both tuple lists need to be in the same order as the reaction scheme; i.e. reaction 2 needs to be after reaction 1 etc.**\n",
    "\n",
    "In this simple case, there is only one reaction with 2 reactants and 1 product. We need to assign a number to each of these. Here: oleic acid = 1, ozone = 2, products = 3.\n",
    "\n",
    "Now we can build up the reaction scheme using the `ReactionScheme` object in MultilayerPy:"
   ]
  },
  {
   "cell_type": "code",
   "execution_count": null,
   "metadata": {},
   "outputs": [],
   "source": [
    "# import the ModelType class\n",
    "from multilayerpy.build import ModelType\n",
    "\n",
    "# import the ReactionScheme class\n",
    "from multilayerpy.build import ReactionScheme\n",
    "\n",
    "# define the model type (KM-SUB in this case) and geometry (spherical or film)\n",
    "mod_type = ModelType('km-sub','spherical')\n",
    "\n",
    "# build the reaction tuple list, in this case only 1 tuple in the list (for 1 reaction)\n",
    "# component 1 (oleic acid) reacts with component 2 (ozone)\n",
    "reaction_tuple_list = [(1,2)]\n",
    "\n",
    "\n",
    "# build the product tuple list, only component 3 (products) is a product\n",
    "# a tuple with a single value inside is defined (value,)\n",
    "product_tuple_list = [(3,)]\n",
    "\n",
    "# now construct the reaction scheme\n",
    "# we can give it a name and define the nuber of components as below\n",
    "reaction_scheme = ReactionScheme(mod_type,name='Oleic acid ozonolysis',\n",
    "                                                   reactants=reaction_tuple_list,\n",
    "                                                products=product_tuple_list)\n",
    "\n",
    "# let's print out a representation of the reaction scheme\n",
    "reaction_scheme.display()"
   ]
  },
  {
   "cell_type": "markdown",
   "metadata": {},
   "source": [
    "### Model components\n",
    "Now we need to make the model components. This is done using the `ModelComponent` object in MultilayerPy. This needs to be supplied with the component number and reaction scheme. Optionally, we can give it a name. "
   ]
  },
  {
   "cell_type": "code",
   "execution_count": null,
   "metadata": {},
   "outputs": [],
   "source": [
    "# import ModelComponent class\n",
    "from multilayerpy.build import ModelComponent\n",
    "\n",
    "# making model components\n",
    "\n",
    "# oleic acid\n",
    "OA = ModelComponent(1,reaction_scheme,name='Oleic acid')\n",
    "\n",
    "# ozone, declare that it is in the gas phase\n",
    "O3 = ModelComponent(2,reaction_scheme,gas=True,name='Ozone') \n",
    "\n",
    "# products\n",
    "prod = ModelComponent(3,reaction_scheme, name='Reaction products')\n",
    "\n",
    "# collect into a dictionary\n",
    "model_components_dict = {'1':OA,\n",
    "                        '2':O3,\n",
    "                        '3':prod}"
   ]
  },
  {
   "cell_type": "markdown",
   "metadata": {},
   "source": [
    "### Diffusion \n",
    "This simple example does not consider diffusion as a function of particle composition. MultilayerPy does, however, have the capacity to account for this. We still need to declare that there is no diffusion evolution. See the relevant jupyter notebook tutorial for an explanation of how to include composition-dependent diffusion. \n",
    "\n",
    "Here, we will supply a simple `None` value, meaning there is no diffusion evolution. This is then supplied to the `DiffusionRegime` object, which stores the code that defines the diffusion of each component."
   ]
  },
  {
   "cell_type": "code",
   "execution_count": null,
   "metadata": {},
   "outputs": [],
   "source": [
    "# import DiffusionRegime class\n",
    "from multilayerpy.build import DiffusionRegime\n",
    "\n",
    "# making the diffusion dictionary\n",
    "diff_dict = None  \n",
    "\n",
    "# make diffusion regime\n",
    "diff_regime = DiffusionRegime(mod_type,model_components_dict,diff_dict=diff_dict)\n",
    "\n",
    "# call it to build diffusion code ready for the builder\n",
    "diff_regime()\n"
   ]
  },
  {
   "cell_type": "markdown",
   "metadata": {},
   "source": [
    "### Construct the model\n",
    "Now we can construct the model using `ModelBuilder` in MultilayerPy. This requires the `reaction_scheme`, `model_components_dict` and `diff_regime` defined earlier."
   ]
  },
  {
   "cell_type": "code",
   "execution_count": null,
   "metadata": {},
   "outputs": [],
   "source": [
    "# import ModelBuilder class\n",
    "from multilayerpy.build import ModelBuilder\n",
    "\n",
    "# create the model object\n",
    "model = ModelBuilder(reaction_scheme,model_components_dict,diff_regime)\n",
    "\n",
    "# build the model. Will save a file, don't include the date in the model filename\n",
    "model.build(date=False)\n",
    "\n",
    "# print out the parameters required for the model to run (useful for constructing the parameter dictionary later)\n",
    "print(model.req_params)"
   ]
  },
  {
   "cell_type": "markdown",
   "metadata": {},
   "source": [
    "#### Side note - custom model code\n",
    "\n",
    "It is possible to customise the model code and load it into a `Simulate`. Call the `Simulate.set_model()` method, which will take the python code filename as an argument. This will be the subject of a future tutorial notebook.\n",
    "\n",
    "*The code below is commented-out and is intended to be used as a template for the user to supply their own customised model code.*  "
   ]
  },
  {
   "cell_type": "code",
   "execution_count": null,
   "metadata": {},
   "outputs": [],
   "source": [
    "# importing an edited or customised model to a Simulate object\n",
    "\n",
    "#model_code_filename = 'my_custom_kmsub_model.py'\n",
    "\n",
    "#sim.set_model(model_code_filename)"
   ]
  },
  {
   "cell_type": "markdown",
   "metadata": {},
   "source": [
    "### Running the model\n",
    "Models are run using the `Simulate` object in MultilayerPy. \n",
    "\n",
    "The required parameters need to be supplied as a dictionary. \n",
    "\n",
    "A description of each parameter is provided in the documentation as a spreadsheet and in the description paper. \n",
    "\n",
    "We need to supply: \n",
    "* The parameter dictionary\n",
    "* The number of model layers\n",
    "* The radius of the particle/thickness of the film\n",
    "* The time span to run the model\n",
    "* The number of timepoints to save\n",
    "* The volume and surface area of each model layer\n",
    "* The initial concentrations of every component in the film\n"
   ]
  },
  {
   "cell_type": "code",
   "execution_count": null,
   "metadata": {},
   "outputs": [],
   "source": [
    "# import the Simulate class\n",
    "from multilayerpy.simulate import Simulate\n",
    "\n",
    "# import the Parameter class\n",
    "from multilayerpy.build import Parameter\n",
    "\n",
    "# make the parameter dictionary\n",
    "# these are parameters from the KM-SUB model description paper (see reference at the start of this notebook)\n",
    "param_dict = {'delta_3':Parameter(1e-7),\n",
    "              'alpha_s_0_2':Parameter(4.2e-4),\n",
    "              'delta_2':Parameter(0.4e-7),\n",
    "              'Db_2':Parameter(1e-5),\n",
    "              'delta_1':Parameter(0.8e-7),\n",
    "              'Db_1':Parameter(1e-10),\n",
    "              'Db_3':Parameter(1e-10),\n",
    "              'k_1_2':Parameter(1.7e-15),\n",
    "              'H_2':Parameter(4.8e-4),\n",
    "              'Xgs_2': Parameter(7.0e13),\n",
    "              'Td_2': Parameter(1e-2),\n",
    "              'w_2':Parameter(3.6e4),\n",
    "              'T':Parameter(298.0),\n",
    "              'k_1_2_surf':Parameter(6.0e-12)}\n",
    "\n",
    "\n",
    "# make the simulate object with the model and parameter dictionary\n",
    "sim = Simulate(model,param_dict)\n",
    "\n",
    "# define required parameters\n",
    "n_layers = 10\n",
    "rp = 0.2e-4 # radius in cm\n",
    "time_span = [0,40] # in s (times between which to run the model)\n",
    "n_time = 999 # number of timepoints to save to output\n",
    "\n",
    "#spherical V and A\n",
    "# use simulate.make_layers function\n",
    "V, A, layer_thick = simulate.make_layers(mod_type,n_layers,rp)\n",
    "\n",
    "# initial conc. of everything\n",
    "\n",
    "bulk_conc_dict = {'1':1.21e21,'2':0,'3':0} # key=model component number, value=bulk conc\n",
    "surf_conc_dict = {'1':9.68e13,'2':0,'3':0} # key=model component number, value=surf conc\n",
    "\n",
    "y0 = simulate.initial_concentrations(mod_type,bulk_conc_dict,surf_conc_dict,n_layers) \n",
    "    \n",
    "# now run the model\n",
    "output = sim.run(n_layers,rp,time_span,n_time,V,A,layer_thick,Y0=y0)\n",
    "\n",
    "%matplotlib inline\n",
    "# plot the model\n",
    "sim.plot()"
   ]
  },
  {
   "cell_type": "code",
   "execution_count": null,
   "metadata": {},
   "outputs": [],
   "source": [
    "# uncomment the line below to see what params were used to run the model simulation\n",
    "#sim.run_params"
   ]
  },
  {
   "cell_type": "markdown",
   "metadata": {},
   "source": [
    "## Visualisation of model outputs\n",
    "Now we have a model which has been run. The `Simulate` object has stored the time resolved surface and bulk concentrations for each model layer and component. These are easily accessible through `Simulate.surf_concs` and `Simulate.bulk_concs`. These are dictionaries, with keys corresponding to the component number. \n",
    "\n",
    "### Plotting (the long way)\n",
    "Let's access the bulk concentration of oleic acid and plot it as a heatmap. Here is the long way of doing it, allowing for customization: "
   ]
  },
  {
   "cell_type": "code",
   "execution_count": null,
   "metadata": {},
   "outputs": [],
   "source": [
    "# get the bulk concentration array for oleic acid (component number 1)\n",
    "OA_bulk_conc_arr = sim.bulk_concs['1']\n",
    "\n",
    "# print the shape of the array (n_time,n_layers)\n",
    "print('shape before transposition',OA_bulk_conc_arr.shape)\n",
    "\n",
    "# I want the layers to be the rows, time as columns\n",
    "OA_bulk_conc_arr = OA_bulk_conc_arr.T # transpose\n",
    "print('shape after transposition',OA_bulk_conc_arr.shape)\n",
    "\n",
    "# Now let's plot the heatmap\n",
    "# import pyplot\n",
    "import matplotlib.pyplot as plt\n",
    "\n",
    "plt.figure()\n",
    "plt.title('OA bulk conc')\n",
    "plt.pcolormesh(OA_bulk_conc_arr)\n",
    "plt.xlabel('Time points')\n",
    "plt.ylabel('Layer number')\n",
    "\n",
    "# invert y-axis so that layer 0 is at the top of the plot\n",
    "plt.gca().invert_yaxis()\n",
    "plt.colorbar(label='Conc. / cm$^{-3}$')\n",
    "plt.show()\n"
   ]
  },
  {
   "cell_type": "markdown",
   "metadata": {},
   "source": [
    "### Quick plotting\n",
    "The `Simulate` object has a `plot_bulk_concs()` function which will return heatmap plots of the bulk concentration for each model component during the model run.  "
   ]
  },
  {
   "cell_type": "code",
   "execution_count": null,
   "metadata": {},
   "outputs": [],
   "source": [
    "sim.plot_bulk_concs()"
   ]
  },
  {
   "cell_type": "markdown",
   "metadata": {},
   "source": [
    "## Model optimization - fitting the model to some data\n",
    "\n",
    "Now that we have a working model, it is likely that we would want to fit the model to some real world data. This involves creating an `Optimizer` object which will take a `Simulate` object as an input. \n",
    "\n",
    "### Current options for parameter optimization:\n",
    "* **Local minimization** with a simplex Nealder-Mead algorithm (a `scipy.optimize.minimise` method).\n",
    "* **Global minimization** with a differential evolution algorithm (`scipy.optimize.differential_evolution`)\n",
    "\n",
    "There is a `noisy_data.txt` file which accompanies this notebook. This is noisy data generated from the model output we plotted earlier. In this way we know the \"true\" value of the parameters we are tring to optimize. \n",
    "\n",
    "Let's make the model again and say we didn't have a good idea of the surface accommodation coefficient (`alpha_s_0_2`) for ozone (component 2):"
   ]
  },
  {
   "cell_type": "code",
   "execution_count": null,
   "metadata": {},
   "outputs": [],
   "source": [
    "# import the optimize module and Optimizer object\n",
    "import multilayerpy.optimize\n",
    "from multilayerpy.optimize import Optimizer\n",
    "\n",
    "\n",
    "# I'll adjust the sim.parameters dictionary to change alpha_s0 to something \"wrong\"\n",
    "# note that 'alpha_s0_2' is set to vary with some bounds\n",
    "\n",
    "param_dict = {'delta_3':Parameter(1e-7),\n",
    "              'alpha_s_0_2':Parameter(0.003,vary=True,bounds=(1e-4,1.0)),\n",
    "              'delta_2':Parameter(0.4e-7),\n",
    "              'Db_2':Parameter(1e-5),\n",
    "              'delta_1':Parameter(0.8e-7),\n",
    "              'Db_1':Parameter(1e-10),\n",
    "              'Db_3':Parameter(1e-10),\n",
    "              'k_1_2':Parameter(1.7e-15),\n",
    "              'H_2':Parameter(4.8e-4),\n",
    "              'Xgs_2': Parameter(7.0e13),\n",
    "              'Td_2': Parameter(1e-2),\n",
    "              'w_2':Parameter(3.6e4),\n",
    "              'T':Parameter(298.0),\n",
    "              'k_1_2_surf':Parameter(6e-12)}\n",
    "\n",
    "# for now, a new simulate object will be created from the original model and the new param_dict\n",
    "sim = Simulate(model,param_dict)\n",
    "\n",
    "# let's load in the fake noisy data - columns are (time, y, y_error)\n",
    "fake_data = np.genfromtxt('noisy_data.txt')\n",
    "\n",
    "# set the Simulate.data attribute to be the fake data, using the Data object and normalised\n",
    "from multilayerpy.simulate import Data\n",
    "sim.data = Data(fake_data)\n",
    "\n",
    "# run the model and plot the initial output\n",
    "output = sim.run(n_layers,rp,time_span,n_time,V,A,layer_thick,Y0=y0)\n",
    "sim.plot()\n"
   ]
  },
  {
   "cell_type": "code",
   "execution_count": null,
   "metadata": {},
   "outputs": [],
   "source": [
    "# the oleic acid decay is way too fast\n",
    "# create an optimizer object which will vary alpha_s0_2. I've called it \"fitter\" here\n",
    "from multilayerpy.optimize import Optimizer\n",
    "\n",
    "fitter = Optimizer(sim)\n",
    "\n",
    "# fit the model + experiment, default method is simplex (least-squares)\n",
    "# the fitter will default to fitting the output from component 1 (oleic acid) to the data \n",
    "#(see the user manual for how to change this)\n",
    "# this will take a few moments...\n",
    "res = fitter.fit()\n",
    "\n",
    "# uncomment below to fit using the differential_evolution alorithm (global optimisation)\n",
    "#res = fitter.fit(method='differential_evolution')\n"
   ]
  },
  {
   "cell_type": "code",
   "execution_count": null,
   "metadata": {},
   "outputs": [],
   "source": [
    "# Plot the optimised model\n",
    "sim.plot()\n"
   ]
  },
  {
   "cell_type": "code",
   "execution_count": null,
   "metadata": {},
   "outputs": [],
   "source": [
    "# Now let's save the model parameters along with optimised parameters to a .csv file\n",
    "sim.save_params_csv(filename='crash_course_optimised_params.csv')\n",
    "\n",
    "# we can also access the raw x-y data from the model output for each component\n",
    "xy_data = sim.xy_data_total_number()\n",
    "\n",
    "# the data are in component number order, first column is time (in seconds)\n",
    "print('ALL XY DATA')\n",
    "print(xy_data)\n",
    "\n",
    "# so to output just the oleic acid data (component 1), slice the xy_data array and save as below:\n",
    "\n",
    "# get first two columns\n",
    "oa_model_decay = xy_data[:,:2] # all the rows of the first two columns of data\n",
    "\n",
    "print('\\nOLEIC ACID XY DATA')\n",
    "print(oa_model_decay)\n",
    "\n",
    "# save to a .txt file\n",
    "np.savetxt('oleic_acid_crash_course_model_output.txt', oa_model_decay)"
   ]
  },
  {
   "cell_type": "markdown",
   "metadata": {},
   "source": [
    "As you can see, the modelled oleic acid decay now fits very well to the experiment. Moreover, the fitted value of `alpha_s0_2` was optimized as ~0.0004 which is very close to the original value (4.2e-4) which was used to generate the fake data! \n",
    "\n",
    "Any number of the parameters in the parameter dictionary can be varied. Just set `vary = True` and `bounds = (lower_bound,upper_bound)` for the `Parameter` object you would like to optimise (see above). \n",
    "\n",
    "## Summary\n",
    "\n",
    "This was a quick walkthrough to get you started with MultilayerPy and KM-SUB. In just a few lines of code a model was created, run and optimised. \n",
    "\n",
    "A few points:\n",
    "\n",
    "* It is easy to make the model fall over if you supply the model with unrealistic parameters. Think about the input parameters for your model. \n",
    "* The model takes longer to run when adding more model layers and model components. \n",
    "* Optimisation using the least-squares algorithm requires the initial values of the varying parameters to fall within the bounds you give them. Otherwise, there is a warning. \n",
    "* The model code file defining the ODEs can be used as part of the supporting information for a publication. For a reminder of the model filename, use the `ModelBuilder.filename` attribute of the model you created. In this example case `model.filename` will print the model filename (`model` is a `ModelBuilder` instance). \n",
    "\n",
    "\n",
    "For more information about the other features of MultilayerPy and the objects within it, consult the **docs** folder and the other tutorials which accompany the source code. "
   ]
  }
 ],
 "metadata": {
  "kernelspec": {
   "display_name": "Python 3",
   "language": "python",
   "name": "python3"
  },
  "language_info": {
   "codemirror_mode": {
    "name": "ipython",
    "version": 3
   },
   "file_extension": ".py",
   "mimetype": "text/x-python",
   "name": "python",
   "nbconvert_exporter": "python",
   "pygments_lexer": "ipython3",
   "version": "3.7.6"
  }
 },
 "nbformat": 4,
 "nbformat_minor": 2
}
