{
 "cells": [
  {
   "cell_type": "markdown",
   "metadata": {},
   "source": [
    "# MultilayerPy - crash course (version 0.0.1)\n",
    "\n",
    "This is a rough guide to get MultilayerPy working on your machine. It will reproduce the output (roughly) from the KM-SUB description paper Fig. 2(a) (https://doi.org/10.5194/acp-10-3673-2010).\n",
    "\n",
    "#### List of things to setup before starting:\n",
    "1. Import the MultilayerPy folder to where you want to test the package (I'll send it as a .zip to you). Maybe a \"model_builder\" folder...\n",
    "2. Open up a session in Spyder (if you don't have spyder, download Anaconda and open it from there). \n",
    "3. Open the example.py file. I have left comments in that file to prompt you where to write different parts of the code. \n",
    "4. Make sure you have scipy and numpy installed. Check this by tring to run `import scipy` and `import numpy` in the ipython console window. If you don't have those: `pip install scipy` and/or `pip install numpy` should do it.\n",
    "\n",
    "First of all we need to import all of the packages that we need. This is already done in the example.py file. This also imports the `kmsub_model_build` and `simulate` files that are the basis of the package. I will rename `kmsub_model_build` in the future as there will be more than just KM-SUB."
   ]
  },
  {
   "cell_type": "code",
   "execution_count": 1,
   "metadata": {},
   "outputs": [],
   "source": [
    "# importing the necessaries\n",
    "import numpy as np\n",
    "import kmsub_model_build \n",
    "import simulate \n",
    "import scipy"
   ]
  },
  {
   "cell_type": "markdown",
   "metadata": {},
   "source": [
    "### Defining the reaction scheme\n",
    "The first thing to do is define the reaction scheme. In this case, **oleic acid + ozone --> products**. There are 3 components. \n",
    "\n",
    "To define the reaction scheme, a `reactant_tuple_list` and `product_tuple_list` is defined. These two objects are lists of tuples (tuple: `(a,b)`; list of tuples:`[(a,b), (c,d)]`). Each member of the list (tuple) represents reactants/product(s) of that reaction. **Both tuple lists need to be in the same order as the reaction scheme; i.e. reaction 2 needs to be after reaction 1 etc.**\n",
    "\n",
    "In this simple case, there is only one reaction with 2 reactants and 1 product. All you need to do is assign a number to each of these. Here: oleic acid = 1, ozone = 2, products = 3.\n",
    "\n",
    "Now we can build up the reaction scheme using the `ReactionScheme` object in MultilayerPy:"
   ]
  },
  {
   "cell_type": "code",
   "execution_count": 2,
   "metadata": {},
   "outputs": [
    {
     "name": "stdout",
     "output_type": "stream",
     "text": [
      "#########################################################\n",
      "Reaction scheme: Oleic acid ozonolysis\n",
      "** No stoichiometry shown **\n",
      "R1: 1 + 2 -----> 3 \n",
      "#########################################################\n"
     ]
    }
   ],
   "source": [
    "# build the reaction tuple list, in this case only 1 tuple in the list (for 1 reaction)\n",
    "# component 1 (oleic acid) reacts with component 2 (ozone)\n",
    "reaction_tuple_list = [(1,2)]\n",
    "\n",
    "# build the product tuple list, only component 3 (products) is a product\n",
    "# a tuple with a single value inside is defined (value,)\n",
    "product_tuple_list = [(3,)]\n",
    "\n",
    "# now construct the reaction scheme\n",
    "# we can give it a name and define the nuber of components as below\n",
    "reaction_scheme = kmsub_model_build.ReactionScheme(name='Oleic acid ozonolysis',\n",
    "                                                   n_components=3,\n",
    "                                                   reaction_tuple_list=reaction_tuple_list,\n",
    "                                                products_of_reactions_list=product_tuple_list)\n",
    "\n",
    "# let's print out a representation of the reaction scheme\n",
    "reaction_scheme.display()"
   ]
  },
  {
   "cell_type": "markdown",
   "metadata": {},
   "source": [
    "### Model components\n",
    "Now we need to make the model components. This is done using the `ModelComponent` object in MultilayerPy. This needs to be supplied with the component number and reaction scheme. Optionally, we can give it a name. "
   ]
  },
  {
   "cell_type": "code",
   "execution_count": 3,
   "metadata": {},
   "outputs": [],
   "source": [
    "# making model components\n",
    "\n",
    "# oleic acid\n",
    "OA = kmsub_model_build.ModelComponent(1,reaction_scheme,name='Oleic acid')\n",
    "\n",
    "# ozone, declare that it is a gas\n",
    "O3 = kmsub_model_build.ModelComponent(2,reaction_scheme,gas=True,name='Ozone') \n",
    "\n",
    "# products\n",
    "prod = kmsub_model_build.ModelComponent(3,reaction_scheme, name='Reaction products')\n",
    "\n",
    "# collect into a dictionary\n",
    "model_components_dict = {'1':OA,\n",
    "                        '2':O3,\n",
    "                        '3':prod}"
   ]
  },
  {
   "cell_type": "markdown",
   "metadata": {},
   "source": [
    "### Diffusion \n",
    "This simple example does not consider diffusion as a function of particle composition. MultilayerPy does, however, have the capacity to account for this. \n",
    "\n",
    "We still need to declare that there is no diffusion evolution. A more detailed example of how to account for diffusion evolution will be provided in the future. \n",
    "\n",
    "Here, we will supply a Python dictionary with keys representing components and values of `None`, meaning there is no diffusion evolution. This is then fed into the `DiffusionRegime` object, which writes the code necessary to define diffusion for each component."
   ]
  },
  {
   "cell_type": "code",
   "execution_count": 4,
   "metadata": {},
   "outputs": [],
   "source": [
    "# making the diffusion dictionary\n",
    "diff_dict = {'1' : None,\n",
    "             '2': None,\n",
    "             '3':None}  \n",
    "\n",
    "# make diffusion regime\n",
    "diff_regime = kmsub_model_build.DiffusionRegime(model_components_dict,diff_dict=diff_dict)\n",
    "\n",
    "# call it to build diffusion code ready for the builder\n",
    "diff_regime()\n"
   ]
  },
  {
   "cell_type": "markdown",
   "metadata": {},
   "source": [
    "### Construct the model\n",
    "Now we can construct the model using `ModelBuilder` in MultilayerPy. This requires the `reaction_scheme`, `model_components_dict` and `diff_regime` defined earlier.\n",
    "\n",
    "*slight artifact at the moment, redundant arguments are also supplied to the builder. Will remove this soon.*"
   ]
  },
  {
   "cell_type": "code",
   "execution_count": 5,
   "metadata": {},
   "outputs": [
    {
     "name": "stdout",
     "output_type": "stream",
     "text": [
      "{'T', 'Db_2', 'Td_2', 'k_1_2', 'k_1_2_surf', 'delta_1', 'Db_1', 'w_2', 'H_2', 'alpha_s_0_2', 'delta_3', 'delta_2', 'Db_3', 'Xgs_2'}\n"
     ]
    }
   ],
   "source": [
    "# create the model object, ignore [1,2,3] etc at the end\n",
    "model = kmsub_model_build.ModelBuilder(reaction_scheme,model_components_dict,diff_regime,[1,2,3],[3,2,1],\n",
    "                                 100)\n",
    "\n",
    "# build the model. Will save a file, don't include the date in the model filename\n",
    "model.build(date=False)\n",
    "\n",
    "# print out the parameters required for the model to run\n",
    "print(model.req_params)"
   ]
  },
  {
   "cell_type": "markdown",
   "metadata": {},
   "source": [
    "### Running the model\n",
    "Models are run using the `Simulate` object in MultilayerPy. \n",
    "\n",
    "The required parameters need to be supplied as a dictionary. I am working on getting the user to supply a spreadsheet/.csv file with this information for easier usability. For the moment, I have made a dictionary.\n",
    "\n",
    "A description of each parameter will be supplied separately in the documentation. \n",
    "\n",
    "All we need to do is supply: \n",
    "* the parameter dictionary\n",
    "* number of model layers\n",
    "* radius of the particle/thickness of the film\n",
    "* time span to run the model\n",
    "* number of timepoints to save\n",
    "* Volume and surface area of each model layer\n",
    "* Initial concentrations of every component in the film\n",
    "\n",
    "**This is currently the most involved part of things. I have ideas for making this easier in the future.**\n"
   ]
  },
  {
   "cell_type": "code",
   "execution_count": 6,
   "metadata": {},
   "outputs": [
    {
     "name": "stdout",
     "output_type": "stream",
     "text": [
      "Model run took 13.12 s\n"
     ]
    },
    {
     "data": {
      "image/png": "[encoded data removed]",
      "text/plain": [
       "<Figure size 432x288 with 1 Axes>"
      ]
     },
     "metadata": {
      "needs_background": "light"
     },
     "output_type": "display_data"
    },
    {
     "data": {
      "image/png": "[encoded data removed]",
      "text/plain": [
       "<Figure size 432x288 with 1 Axes>"
      ]
     },
     "metadata": {
      "needs_background": "light"
     },
     "output_type": "display_data"
    }
   ],
   "source": [
    "# make the parameter dictionary\n",
    "# these are parameters from the KM-SUB paper\n",
    "param_dict = {'delta_3':1e-7,\n",
    "              'alpha_s_0_2':4.2e-4,\n",
    "              'kd_X_2':1/1e-2,\n",
    "              'delta_2':0.4e-7,\n",
    "              'Db_2':1e-5,\n",
    "              'delta_1':0.8e-7,\n",
    "              'Db_1':1e-10,\n",
    "              'Db_3':1e-10,\n",
    "              'k_1_2':1.7e-15,\n",
    "              'H_2':4.8e-4,\n",
    "              'Xgs_2': 7.0e13,\n",
    "              'Td_2': 1e-2,\n",
    "              'w_2':3.6e4,\n",
    "              'T':298,\n",
    "              'k_1_2_surf':6.0e-12}\n",
    "\n",
    "# make the simulate object with the model and parameter dictionary\n",
    "sim = simulate.Simulate(model,param_dict)\n",
    "\n",
    "# define required parameters\n",
    "n_layers = 100\n",
    "rp = 0.2e-4 # radius in cm\n",
    "time_span = [0,40] # in s\n",
    "n_time = 999\n",
    "\n",
    "#spherical V and A\n",
    "\n",
    "delta = rp/n_layers # thickness of each layer\n",
    "\n",
    "V = np.zeros(n_layers)\n",
    "A = np.zeros(n_layers)\n",
    "for i in np.arange(n_layers):\n",
    "    layerno = i + 1\n",
    "    V[i] = (4/3) * np.pi * ((rp-(layerno-1)*delta)**3 - (rp-layerno*delta)**3)    \n",
    "    A[i] = 4 * np.pi * (rp-(layerno-1)*delta)**2\n",
    "\n",
    "layer_thick = np.ones(n_layers) * delta\n",
    "\n",
    "# initial conc. of everything\n",
    "y0=np.zeros(n_layers * 3 + 3)\n",
    "\n",
    "y0[0] = 9.68e13 # surf conc of oleic acid\n",
    "for i in np.arange(1,n_layers+1):\n",
    "    y0[i] = 1.21e21 # bulk conc of oleic acid\n",
    "    \n",
    "# now run the model\n",
    "output = sim.run(n_layers,rp,time_span,n_time,V,A,layer_thick,Y0=y0)\n",
    "\n",
    "%matplotlib inline\n",
    "# plot the model\n",
    "sim.plot()"
   ]
  },
  {
   "cell_type": "code",
   "execution_count": 7,
   "metadata": {},
   "outputs": [
    {
     "data": {
      "text/plain": [
       "{'n_layers': 100,\n",
       " 'rp': 2e-05,\n",
       " 'time_span': [0, 40],\n",
       " 'n_time': 999,\n",
       " 'V': array([9.95290063e-16, 9.75384932e-16, 9.55680863e-16, 9.36177856e-16,\n",
       "        9.16875910e-16, 8.97775027e-16, 8.78875206e-16, 8.60176446e-16,\n",
       "        8.41678749e-16, 8.23382113e-16, 8.05286539e-16, 7.87392028e-16,\n",
       "        7.69698578e-16, 7.52206190e-16, 7.34914864e-16, 7.17824600e-16,\n",
       "        7.00935398e-16, 6.84247258e-16, 6.67760179e-16, 6.51474163e-16,\n",
       "        6.35389209e-16, 6.19505316e-16, 6.03822486e-16, 5.88340717e-16,\n",
       "        5.73060010e-16, 5.57980366e-16, 5.43101783e-16, 5.28424262e-16,\n",
       "        5.13947803e-16, 4.99672406e-16, 4.85598071e-16, 4.71724798e-16,\n",
       "        4.58052586e-16, 4.44581437e-16, 4.31311350e-16, 4.18242324e-16,\n",
       "        4.05374361e-16, 3.92707459e-16, 3.80241620e-16, 3.67976842e-16,\n",
       "        3.55913126e-16, 3.44050472e-16, 3.32388880e-16, 3.20928350e-16,\n",
       "        3.09668882e-16, 2.98610476e-16, 2.87753132e-16, 2.77096850e-16,\n",
       "        2.66641629e-16, 2.56387471e-16, 2.46334374e-16, 2.36482340e-16,\n",
       "        2.26831367e-16, 2.17381456e-16, 2.08132608e-16, 1.99084821e-16,\n",
       "        1.90238096e-16, 1.81592433e-16, 1.73147832e-16, 1.64904293e-16,\n",
       "        1.56861816e-16, 1.49020400e-16, 1.41380047e-16, 1.33940756e-16,\n",
       "        1.26702526e-16, 1.19665359e-16, 1.12829253e-16, 1.06194209e-16,\n",
       "        9.97602275e-17, 9.35273077e-17, 8.74954498e-17, 8.16646538e-17,\n",
       "        7.60349198e-17, 7.06062477e-17, 6.53786375e-17, 6.03520893e-17,\n",
       "        5.55266030e-17, 5.09021786e-17, 4.64788161e-17, 4.22565156e-17,\n",
       "        3.82352770e-17, 3.44151003e-17, 3.07959856e-17, 2.73779328e-17,\n",
       "        2.41609419e-17, 2.11450130e-17, 1.83301459e-17, 1.57163408e-17,\n",
       "        1.33035977e-17, 1.10919165e-17, 9.08129716e-18, 7.27173980e-18,\n",
       "        5.66324436e-18, 4.25581085e-18, 3.04943927e-18, 2.04412962e-18,\n",
       "        1.23988190e-18, 6.36696111e-19, 2.34572251e-19, 3.35103216e-20]),\n",
       " 'A': array([5.02654825e-09, 4.92651994e-09, 4.82749694e-09, 4.72947924e-09,\n",
       "        4.63246686e-09, 4.53645979e-09, 4.44145803e-09, 4.34746158e-09,\n",
       "        4.25447044e-09, 4.16248460e-09, 4.07150408e-09, 3.98152887e-09,\n",
       "        3.89255896e-09, 3.80459437e-09, 3.71763508e-09, 3.63168111e-09,\n",
       "        3.54673244e-09, 3.46278909e-09, 3.37985104e-09, 3.29791830e-09,\n",
       "        3.21699088e-09, 3.13706876e-09, 3.05815195e-09, 2.98024045e-09,\n",
       "        2.90333427e-09, 2.82743339e-09, 2.75253782e-09, 2.67864756e-09,\n",
       "        2.60576261e-09, 2.53388297e-09, 2.46300864e-09, 2.39313962e-09,\n",
       "        2.32427591e-09, 2.25641751e-09, 2.18956442e-09, 2.12371663e-09,\n",
       "        2.05887416e-09, 1.99503700e-09, 1.93220515e-09, 1.87037860e-09,\n",
       "        1.80955737e-09, 1.74974144e-09, 1.69093083e-09, 1.63312553e-09,\n",
       "        1.57632553e-09, 1.52053084e-09, 1.46574147e-09, 1.41195740e-09,\n",
       "        1.35917865e-09, 1.30740520e-09, 1.25663706e-09, 1.20687423e-09,\n",
       "        1.15811672e-09, 1.11036451e-09, 1.06361761e-09, 1.01787602e-09,\n",
       "        9.73139740e-10, 9.29408771e-10, 8.86683111e-10, 8.44962760e-10,\n",
       "        8.04247719e-10, 7.64537988e-10, 7.25833567e-10, 6.88134455e-10,\n",
       "        6.51440653e-10, 6.15752160e-10, 5.81068977e-10, 5.47391104e-10,\n",
       "        5.14718540e-10, 4.83051286e-10, 4.52389342e-10, 4.22732707e-10,\n",
       "        3.94081382e-10, 3.66435367e-10, 3.39794661e-10, 3.14159265e-10,\n",
       "        2.89529179e-10, 2.65904402e-10, 2.43284935e-10, 2.21670778e-10,\n",
       "        2.01061930e-10, 1.81458392e-10, 1.62860163e-10, 1.45267244e-10,\n",
       "        1.28679635e-10, 1.13097336e-10, 9.85203456e-11, 8.49486654e-11,\n",
       "        7.23822947e-11, 6.08212338e-11, 5.02654825e-11, 4.07150408e-11,\n",
       "        3.21699088e-11, 2.46300864e-11, 1.80955737e-11, 1.25663706e-11,\n",
       "        8.04247719e-12, 4.52389342e-12, 2.01061930e-12, 5.02654825e-13]),\n",
       " 'layer_thick': array([2.e-07, 2.e-07, 2.e-07, 2.e-07, 2.e-07, 2.e-07, 2.e-07, 2.e-07,\n",
       "        2.e-07, 2.e-07, 2.e-07, 2.e-07, 2.e-07, 2.e-07, 2.e-07, 2.e-07,\n",
       "        2.e-07, 2.e-07, 2.e-07, 2.e-07, 2.e-07, 2.e-07, 2.e-07, 2.e-07,\n",
       "        2.e-07, 2.e-07, 2.e-07, 2.e-07, 2.e-07, 2.e-07, 2.e-07, 2.e-07,\n",
       "        2.e-07, 2.e-07, 2.e-07, 2.e-07, 2.e-07, 2.e-07, 2.e-07, 2.e-07,\n",
       "        2.e-07, 2.e-07, 2.e-07, 2.e-07, 2.e-07, 2.e-07, 2.e-07, 2.e-07,\n",
       "        2.e-07, 2.e-07, 2.e-07, 2.e-07, 2.e-07, 2.e-07, 2.e-07, 2.e-07,\n",
       "        2.e-07, 2.e-07, 2.e-07, 2.e-07, 2.e-07, 2.e-07, 2.e-07, 2.e-07,\n",
       "        2.e-07, 2.e-07, 2.e-07, 2.e-07, 2.e-07, 2.e-07, 2.e-07, 2.e-07,\n",
       "        2.e-07, 2.e-07, 2.e-07, 2.e-07, 2.e-07, 2.e-07, 2.e-07, 2.e-07,\n",
       "        2.e-07, 2.e-07, 2.e-07, 2.e-07, 2.e-07, 2.e-07, 2.e-07, 2.e-07,\n",
       "        2.e-07, 2.e-07, 2.e-07, 2.e-07, 2.e-07, 2.e-07, 2.e-07, 2.e-07,\n",
       "        2.e-07, 2.e-07, 2.e-07, 2.e-07]),\n",
       " 'dense_output': False,\n",
       " 'Y0': array([9.68e+13, 1.21e+21, 1.21e+21, 1.21e+21, 1.21e+21, 1.21e+21,\n",
       "        1.21e+21, 1.21e+21, 1.21e+21, 1.21e+21, 1.21e+21, 1.21e+21,\n",
       "        1.21e+21, 1.21e+21, 1.21e+21, 1.21e+21, 1.21e+21, 1.21e+21,\n",
       "        1.21e+21, 1.21e+21, 1.21e+21, 1.21e+21, 1.21e+21, 1.21e+21,\n",
       "        1.21e+21, 1.21e+21, 1.21e+21, 1.21e+21, 1.21e+21, 1.21e+21,\n",
       "        1.21e+21, 1.21e+21, 1.21e+21, 1.21e+21, 1.21e+21, 1.21e+21,\n",
       "        1.21e+21, 1.21e+21, 1.21e+21, 1.21e+21, 1.21e+21, 1.21e+21,\n",
       "        1.21e+21, 1.21e+21, 1.21e+21, 1.21e+21, 1.21e+21, 1.21e+21,\n",
       "        1.21e+21, 1.21e+21, 1.21e+21, 1.21e+21, 1.21e+21, 1.21e+21,\n",
       "        1.21e+21, 1.21e+21, 1.21e+21, 1.21e+21, 1.21e+21, 1.21e+21,\n",
       "        1.21e+21, 1.21e+21, 1.21e+21, 1.21e+21, 1.21e+21, 1.21e+21,\n",
       "        1.21e+21, 1.21e+21, 1.21e+21, 1.21e+21, 1.21e+21, 1.21e+21,\n",
       "        1.21e+21, 1.21e+21, 1.21e+21, 1.21e+21, 1.21e+21, 1.21e+21,\n",
       "        1.21e+21, 1.21e+21, 1.21e+21, 1.21e+21, 1.21e+21, 1.21e+21,\n",
       "        1.21e+21, 1.21e+21, 1.21e+21, 1.21e+21, 1.21e+21, 1.21e+21,\n",
       "        1.21e+21, 1.21e+21, 1.21e+21, 1.21e+21, 1.21e+21, 1.21e+21,\n",
       "        1.21e+21, 1.21e+21, 1.21e+21, 1.21e+21, 1.21e+21, 0.00e+00,\n",
       "        0.00e+00, 0.00e+00, 0.00e+00, 0.00e+00, 0.00e+00, 0.00e+00,\n",
       "        0.00e+00, 0.00e+00, 0.00e+00, 0.00e+00, 0.00e+00, 0.00e+00,\n",
       "        0.00e+00, 0.00e+00, 0.00e+00, 0.00e+00, 0.00e+00, 0.00e+00,\n",
       "        0.00e+00, 0.00e+00, 0.00e+00, 0.00e+00, 0.00e+00, 0.00e+00,\n",
       "        0.00e+00, 0.00e+00, 0.00e+00, 0.00e+00, 0.00e+00, 0.00e+00,\n",
       "        0.00e+00, 0.00e+00, 0.00e+00, 0.00e+00, 0.00e+00, 0.00e+00,\n",
       "        0.00e+00, 0.00e+00, 0.00e+00, 0.00e+00, 0.00e+00, 0.00e+00,\n",
       "        0.00e+00, 0.00e+00, 0.00e+00, 0.00e+00, 0.00e+00, 0.00e+00,\n",
       "        0.00e+00, 0.00e+00, 0.00e+00, 0.00e+00, 0.00e+00, 0.00e+00,\n",
       "        0.00e+00, 0.00e+00, 0.00e+00, 0.00e+00, 0.00e+00, 0.00e+00,\n",
       "        0.00e+00, 0.00e+00, 0.00e+00, 0.00e+00, 0.00e+00, 0.00e+00,\n",
       "        0.00e+00, 0.00e+00, 0.00e+00, 0.00e+00, 0.00e+00, 0.00e+00,\n",
       "        0.00e+00, 0.00e+00, 0.00e+00, 0.00e+00, 0.00e+00, 0.00e+00,\n",
       "        0.00e+00, 0.00e+00, 0.00e+00, 0.00e+00, 0.00e+00, 0.00e+00,\n",
       "        0.00e+00, 0.00e+00, 0.00e+00, 0.00e+00, 0.00e+00, 0.00e+00,\n",
       "        0.00e+00, 0.00e+00, 0.00e+00, 0.00e+00, 0.00e+00, 0.00e+00,\n",
       "        0.00e+00, 0.00e+00, 0.00e+00, 0.00e+00, 0.00e+00, 0.00e+00,\n",
       "        0.00e+00, 0.00e+00, 0.00e+00, 0.00e+00, 0.00e+00, 0.00e+00,\n",
       "        0.00e+00, 0.00e+00, 0.00e+00, 0.00e+00, 0.00e+00, 0.00e+00,\n",
       "        0.00e+00, 0.00e+00, 0.00e+00, 0.00e+00, 0.00e+00, 0.00e+00,\n",
       "        0.00e+00, 0.00e+00, 0.00e+00, 0.00e+00, 0.00e+00, 0.00e+00,\n",
       "        0.00e+00, 0.00e+00, 0.00e+00, 0.00e+00, 0.00e+00, 0.00e+00,\n",
       "        0.00e+00, 0.00e+00, 0.00e+00, 0.00e+00, 0.00e+00, 0.00e+00,\n",
       "        0.00e+00, 0.00e+00, 0.00e+00, 0.00e+00, 0.00e+00, 0.00e+00,\n",
       "        0.00e+00, 0.00e+00, 0.00e+00, 0.00e+00, 0.00e+00, 0.00e+00,\n",
       "        0.00e+00, 0.00e+00, 0.00e+00, 0.00e+00, 0.00e+00, 0.00e+00,\n",
       "        0.00e+00, 0.00e+00, 0.00e+00, 0.00e+00, 0.00e+00, 0.00e+00,\n",
       "        0.00e+00, 0.00e+00, 0.00e+00, 0.00e+00, 0.00e+00, 0.00e+00,\n",
       "        0.00e+00, 0.00e+00, 0.00e+00, 0.00e+00, 0.00e+00, 0.00e+00,\n",
       "        0.00e+00, 0.00e+00, 0.00e+00, 0.00e+00, 0.00e+00, 0.00e+00,\n",
       "        0.00e+00, 0.00e+00, 0.00e+00, 0.00e+00, 0.00e+00, 0.00e+00,\n",
       "        0.00e+00, 0.00e+00, 0.00e+00, 0.00e+00, 0.00e+00, 0.00e+00,\n",
       "        0.00e+00, 0.00e+00, 0.00e+00, 0.00e+00, 0.00e+00, 0.00e+00,\n",
       "        0.00e+00, 0.00e+00, 0.00e+00]),\n",
       " 'ode_integrator': 'scipy',\n",
       " 'ode_integrate_method': 'BDF'}"
      ]
     },
     "execution_count": 7,
     "metadata": {},
     "output_type": "execute_result"
    }
   ],
   "source": [
    "sim.run_params"
   ]
  },
  {
   "cell_type": "code",
   "execution_count": null,
   "metadata": {},
   "outputs": [],
   "source": []
  }
 ],
 "metadata": {
  "kernelspec": {
   "display_name": "Python 3",
   "language": "python",
   "name": "python3"
  },
  "language_info": {
   "codemirror_mode": {
    "name": "ipython",
    "version": 3
   },
   "file_extension": ".py",
   "mimetype": "text/x-python",
   "name": "python",
   "nbconvert_exporter": "python",
   "pygments_lexer": "ipython3",
   "version": "3.7.4"
  }
 },
 "nbformat": 4,
 "nbformat_minor": 2
}
